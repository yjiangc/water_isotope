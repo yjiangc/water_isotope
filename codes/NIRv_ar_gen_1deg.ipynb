{
 "cells": [
  {
   "cell_type": "code",
   "execution_count": null,
   "metadata": {
    "colab": {
     "base_uri": "https://localhost:8080/"
    },
    "id": "Jl6UvBaGB880",
    "outputId": "a193b4e8-cbe7-4561-c06a-26b4bf2b9743"
   },
   "outputs": [
    {
     "name": "stdout",
     "output_type": "stream",
     "text": [
      "To authorize access needed by Earth Engine, open the following URL in a web browser and follow the instructions. If the web browser does not start automatically, please manually browse the URL below.\n",
      "\n",
      "    https://code.earthengine.google.com/client-auth?scopes=https%3A//www.googleapis.com/auth/earthengine%20https%3A//www.googleapis.com/auth/devstorage.full_control&request_id=qZ4GxOw4U5_AZCc5ab5TH58UCxaD7NFuprTy7ReXyTU&tc=W6cgbYRzZbOPWLJc9gU9_VGZp9u8yG0rVdGgX1SHL3M&cc=6l-oYL_MgrsK-OaNiHNouTZO4T2mZPbWZWWd3nRFf8g\n",
      "\n",
      "The authorization workflow will generate a code, which you should paste in the box below.\n",
      "Enter verification code: 4/1AVHEtk6wEZB6T2_2Gg8GBK34GtGVotF9GJmMuT7vtldMc9V4bxmU7Q5x-aE\n",
      "\n",
      "Successfully saved authorization token.\n"
     ]
    }
   ],
   "source": [
    "import ee\n",
    "ee.Authenticate()\n",
    "ee.Initialize()"
   ]
  },
  {
   "cell_type": "code",
   "execution_count": null,
   "metadata": {
    "id": "mrTE2hYyE-zg"
   },
   "outputs": [],
   "source": [
    "# Define a function to calculate NIRv with quality control\n",
    "def NIRv(image):\n",
    "  nirv=image.expression(\n",
    "      'nir *0.0001 * float((nir*0.0001 - red*0.0001)/(nir*0.0001 + red*0.0001)-L)',\n",
    "      {\n",
    "        'nir': image.select('Nadir_Reflectance_Band2'),\n",
    "        'red': image.select('Nadir_Reflectance_Band1'),\n",
    "        'L': 0.08\n",
    "      })\n",
    "  #qa1 = image.select('BRDF_Albedo_Band_Mandatory_Quality_Band1')\n",
    "  #qa2 = image.select('BRDF_Albedo_Band_Mandatory_Quality_Band2')\n",
    "  #mask = qa1.bitwiseAnd(2**0).eq(0) and qa2.bitwiseAnd(2**0).eq(0) # Bit 0 is set to 1 for low-quality pixels\n",
    "  return image.addBands(nirv.rename('NIRv'))"
   ]
  },
  {
   "cell_type": "code",
   "execution_count": null,
   "metadata": {
    "id": "ELsebJAOFMX7"
   },
   "outputs": [],
   "source": [
    "# Set up a mask to remove low-quality pixels based on QA band\n",
    "def c2mask(image):\n",
    "    qa1=image.select('BRDF_Albedo_Band_Mandatory_Quality_Band1').unmask()\n",
    "    qa2=image.select('BRDF_Albedo_Band_Mandatory_Quality_Band2').unmask()\n",
    "    nirv=image.updateMask(qa1.lte(1) .And (qa2.lte(1)))\n",
    "    return nirv.toFloat()"
   ]
  },
  {
   "cell_type": "code",
   "execution_count": null,
   "metadata": {
    "id": "r6gtkj5_FOdK"
   },
   "outputs": [],
   "source": [
    "# Define the general AOI\n",
    "aoi = ee.Geometry.Polygon(\n",
    "        [[[-180, -90],\n",
    "          [-180, 90],\n",
    "          [180, 90],\n",
    "          [180, -90],\n",
    "          [-180, -90]]],\n",
    "        None,\n",
    "        False)"
   ]
  },
  {
   "cell_type": "code",
   "execution_count": null,
   "metadata": {
    "id": "jyCAcYgDFRS2"
   },
   "outputs": [],
   "source": [
    "import numpy as np\n",
    "import time"
   ]
  },
  {
   "cell_type": "code",
   "execution_count": null,
   "metadata": {
    "id": "ECXbRfCHFT8f"
   },
   "outputs": [],
   "source": [
    "# Define the start and end dates for the study period -- LOOP\n",
    "#note: GEE does not read the end date data\n",
    "md=['01-01','01-06','01-06','01-11','01-11','01-16','01-16','01-21','01-21','01-26','01-26','01-31',\n",
    "    '01-31','02-05','02-05','02-10','02-10','02-15','02-15','02-20','02-20','02-25','02-25','03-02',\n",
    "    '03-02','03-07','03-07','03-12','03-12','03-17','03-17','03-22','03-22','03-27','03-27','04-01',\n",
    "    '04-01','04-06','04-06','04-11','04-11','04-16','04-16','04-21','04-21','04-26','04-26','05-01',\n",
    "    '05-01','05-06','05-06','05-11','05-11','05-16','05-16','05-21','05-21','05-26','05-26','05-31',\n",
    "    '05-31','06-05','06-05','06-10','06-10','06-15','06-15','06-20','06-20','06-25','06-25','06-30',\n",
    "    '06-30','07-05','07-05','07-10','07-10','07-15','07-15','07-20','07-20','07-25','07-25','07-30',\n",
    "    '07-30','08-04','08-04','08-09','08-09','08-14','08-14','08-19','08-19','08-24','08-24','08-29',\n",
    "    '08-29','09-03','09-03','09-08','09-08','09-13','09-13','09-18','09-18','09-23','09-23','09-28',\n",
    "    '09-28','10-03','10-03','10-08','10-08','10-13','10-13','10-18','10-18','10-23','10-23','10-28',\n",
    "    '10-28','11-02','11-02','11-07','11-07','11-12','11-12','11-17','11-17','11-22','11-22','11-27',\n",
    "    '11-27','12-02','12-02','12-07','12-07','12-12','12-12','12-17','12-17','12-22','12-22','12-27',\n",
    "    '12-27','01-01']"
   ]
  },
  {
   "cell_type": "code",
   "execution_count": null,
   "metadata": {
    "id": "uaZnyqNHFn0h"
   },
   "outputs": [],
   "source": [
    "#test start & end date -- single year\n",
    "for yr in range(2002,2003):\n",
    "  for pd in range(73):\n",
    "    #print(pd)\n",
    "    td1=md[pd*2]\n",
    "    td2=md[pd*2+1]\n",
    "    start_date = str(yr)+'-'+td1\n",
    "    end_date   = str(yr)+'-'+td2\n",
    "    #print(start_date,end_date)\n",
    "    #Bingo"
   ]
  },
  {
   "cell_type": "code",
   "execution_count": null,
   "metadata": {
    "colab": {
     "base_uri": "https://localhost:8080/"
    },
    "id": "uuBP1DIQFqc5",
    "outputId": "679e112b-b160-40ba-dca0-66613016fe17"
   },
   "outputs": [
    {
     "name": "stdout",
     "output_type": "stream",
     "text": [
      "Mounted at /content/drive\n"
     ]
    }
   ],
   "source": [
    "#cool & then save the array to google drive\n",
    "from google.colab import drive\n",
    "drive.mount('/content/drive')"
   ]
  },
  {
   "cell_type": "code",
   "execution_count": null,
   "metadata": {
    "id": "7RE5aY1TFtm7"
   },
   "outputs": [],
   "source": [
    "import os"
   ]
  },
  {
   "cell_type": "code",
   "execution_count": null,
   "metadata": {},
   "outputs": [],
   "source": [
    "#full readin 2002-2022\n",
    "for yr in range(2001,2023):\n",
    "  for pd in range(73):\n",
    "    print(pd)\n",
    "    td1=md[pd*2]\n",
    "    td2=md[pd*2+1]\n",
    "    if pd<72:\n",
    "        start_date = str(yr)+'-'+td1\n",
    "        end_date   = str(yr)+'-'+td2\n",
    "    if pd==72:\n",
    "        start_date = str(yr)+'-'+td1\n",
    "        end_date   = str(yr+1)+'-'+td2\n",
    "    print(start_date,end_date)\n",
    "\n",
    "    # Load the MCD43A4 data for the study period and filter by the study area\n",
    "    mcd43a4 = ee.ImageCollection('MODIS/006/MCD43A4') \\\n",
    "            .filterDate(start_date, end_date) \\\n",
    "            .filterBounds(aoi)\n",
    "\n",
    "    # Map the function over the image collection\n",
    "    nirv_collection = mcd43a4.map(NIRv)\n",
    "    # Map the function over the NIRv collection\n",
    "    masked_nirv_collection = nirv_collection.map(c2mask).mean()\n",
    "    projection=masked_nirv_collection.select('NIRv').projection()\n",
    "    transform1 = projection.getInfo()['transform']\n",
    "    resampled_image = masked_nirv_collection.reproject(crs=masked_nirv_collection.select('NIRv').projection(), crsTransform=transform1)\n",
    "\n",
    "    #convert to array\n",
    "    #start_time=time.time()\n",
    "    na_glo=np.ones((130,350))*-1\n",
    "    roi=ee.Geometry.Rectangle([-170.00, -60.00, 180.00, 70.00],proj='EPSG:4326')\n",
    "    nirv_array3 = np.array(resampled_image.sampleRectangle(region=roi, defaultValue=-1).getInfo()['properties']['NIRv'])\n",
    "    na_glo=nirv_array3\n",
    "    \n",
    "    np.save('/your own directory/'+str(yr)+'/NIRv_1d_qcl_'+str(yr)+'_'+str(pd+1)+'.npy',na_glo)\n",
    "    #save to google drive############################################################\n",
    "    #folder_name = 'NIRv_array_real_1deg/'+str(yr)\n",
    "    #folder_path = '/content/drive/My Drive/' + folder_name\n",
    "    #if not os.path.exists(folder_path):\n",
    "        #os.makedirs(folder_path)\n",
    "    #array_file_path = folder_path + '/NIRV_'+str(yr)+'_'+str(pd+1)+'.npy'\n",
    "    #np.save(array_file_path, na_glo)"
   ]
  },
  {
   "cell_type": "code",
   "execution_count": null,
   "metadata": {
    "colab": {
     "base_uri": "https://localhost:8080/"
    },
    "id": "JJv9bsOxGPRd",
    "outputId": "e5d070f6-6712-46db-acf5-89f4cdd64c7b"
   },
   "outputs": [],
   "source": []
  },
  {
   "cell_type": "code",
   "execution_count": null,
   "metadata": {
    "id": "aCwXSibCHrU1"
   },
   "outputs": [],
   "source": []
  }
 ],
 "metadata": {
  "colab": {
   "provenance": []
  },
  "kernelspec": {
   "display_name": "Python 3 (ipykernel)",
   "language": "python",
   "name": "python3"
  },
  "language_info": {
   "codemirror_mode": {
    "name": "ipython",
    "version": 3
   },
   "file_extension": ".py",
   "mimetype": "text/x-python",
   "name": "python",
   "nbconvert_exporter": "python",
   "pygments_lexer": "ipython3",
   "version": "3.9.12"
  }
 },
 "nbformat": 4,
 "nbformat_minor": 1
}
