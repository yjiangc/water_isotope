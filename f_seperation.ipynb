{
 "cells": [
  {
   "cell_type": "code",
   "execution_count": 1,
   "id": "cedd4191",
   "metadata": {},
   "outputs": [],
   "source": [
    "#This script is used to optimizely seperate cropland grids by f"
   ]
  },
  {
   "cell_type": "code",
   "execution_count": 2,
   "id": "05a55060",
   "metadata": {},
   "outputs": [
    {
     "name": "stderr",
     "output_type": "stream",
     "text": [
      "C:\\Users\\jiang\\anaconda3\\lib\\site-packages\\scipy\\__init__.py:146: UserWarning: A NumPy version >=1.16.5 and <1.23.0 is required for this version of SciPy (detected version 1.26.4\n",
      "  warnings.warn(f\"A NumPy version >={np_minversion} and <{np_maxversion}\"\n"
     ]
    }
   ],
   "source": [
    "import numpy as np\n",
    "import xarray as xr\n",
    "from scipy.interpolate import griddata\n",
    "from scipy.stats import ttest_ind"
   ]
  },
  {
   "cell_type": "code",
   "execution_count": 3,
   "id": "2c457bd0",
   "metadata": {},
   "outputs": [],
   "source": [
    "#grid 1 DEG\n",
    "y1d=np.arange(70,-60.1,-1)\n",
    "x1d=np.arange(-170,180.1,1)\n",
    "lon1s,lat1s=np.meshgrid(x1d, y1d)\n",
    "#2 deg, cropland mask\n",
    "imai0=np.load('/change to your path/imai0_full.npy',allow_pickle=True)\n",
    "y3d=np.arange(70,-60.1,-2.)\n",
    "x3d=np.arange(-170,180.1,2.)\n",
    "lon3s,lat3s=np.meshgrid(x3d, y3d)\n",
    "\n",
    "imai_2degf=np.zeros((66,176))*np.nan\n",
    "for y in range(66):\n",
    "    for x in range(176):\n",
    "        al=[imai0[0,y,x],imai0[1,y,x],imai0[2,y,x],imai0[3,y,x],imai0[4,y,x]]\n",
    "        if np.count_nonzero(np.array(al)>0)>0:\n",
    "            imai_2degf[y,x]=np.nanmax(al)"
   ]
  },
  {
   "cell_type": "code",
   "execution_count": 4,
   "id": "dc9b3e1b",
   "metadata": {},
   "outputs": [],
   "source": [
    "#2002-2022 NIRv datasets###############################################################\n",
    "nirvf=np.load('/change to your path/nir_full_1deg.npy',allow_pickle=True)\n",
    "nirvf5=np.zeros((21,73,66,176))*np.nan\n",
    "for yr in range(21):\n",
    "    for pdt in range(73):\n",
    "        nirvf5[yr,pdt,:,:] = griddata((lon1s[0:130,0:350].ravel(),lat1s[0:130,0:350].ravel()), nirvf[yr,pdt,::-1,:].ravel(),(lon3s, lat3s) , method='nearest')   \n",
    "#get rid of non crop & -1 grids\n",
    "crop_m3=np.where(imai_2degf<2)\n",
    "nirvf_m5=np.ones((21,73,66,176))*np.nan\n",
    "for yr in range(21):\n",
    "    for pdt in range(73):\n",
    "        mk4=np.where(nirvf5[yr,pdt,:,:]<0)\n",
    "        i3=nirvf5[yr,pdt,:,:]\n",
    "        i3[mk4]=np.nan\n",
    "        i3[crop_m3]=np.nan\n",
    "        nirvf_m5[yr,pdt,:,:]=i3"
   ]
  },
  {
   "cell_type": "code",
   "execution_count": 6,
   "id": "f55eb7bf",
   "metadata": {},
   "outputs": [],
   "source": [
    "#crop calendar data mask\n",
    "wcu=xr.open_dataset('/change to your path/Wheat.crop.calendar.nc')\n",
    "loncs,latcs=np.meshgrid(wcu.longitude[19::], wcu.latitude[39:300])#GCE\n",
    "long,latg=np.meshgrid(wcu.longitude, wcu.latitude)#CCD\n",
    "imog_nacf=np.load('/change to your path/cecl_gs_0.5_v3.npy',allow_pickle=True)     \n",
    "#2deg\n",
    "y1d=np.arange(70,-60.1,-2)\n",
    "x1d=np.arange(-170,180.1,2)\n",
    "lon2s,lat2s=np.meshgrid(x1d, y1d)\n",
    "imog_nac2=np.zeros((2,66,176))*np.nan\n",
    "imog_nac2[0,:,:] = griddata((loncs.ravel(),latcs.ravel()), imog_nacf[0,:,:].ravel(),(lon2s, lat2s) , method='nearest')   \n",
    "imog_nac2[1,:,:] = griddata((loncs.ravel(),latcs.ravel()), imog_nacf[1,:,:].ravel(),(lon2s, lat2s) , method='nearest')   "
   ]
  },
  {
   "cell_type": "code",
   "execution_count": 7,
   "id": "29ec3db3",
   "metadata": {},
   "outputs": [
    {
     "name": "stderr",
     "output_type": "stream",
     "text": [
      "C:\\Users\\jiang\\AppData\\Local\\Temp\\ipykernel_18112\\2540320667.py:15: RuntimeWarning: Mean of empty slice\n",
      "  nirl=np.nanmean(nirvf_m5[1:18,sogr_na:eogr_na+1,y,x],axis=0)\n",
      "C:\\Users\\jiang\\AppData\\Local\\Temp\\ipykernel_18112\\2540320667.py:16: RuntimeWarning: Mean of empty slice\n",
      "  nirvf_mean[y,x]=np.nanmean(nirl)\n",
      "C:\\Users\\jiang\\AppData\\Local\\Temp\\ipykernel_18112\\2540320667.py:19: RuntimeWarning: Mean of empty slice\n",
      "  nirl=np.nanmean(nirli,axis=0)\n",
      "C:\\Users\\jiang\\AppData\\Local\\Temp\\ipykernel_18112\\2540320667.py:20: RuntimeWarning: Mean of empty slice\n",
      "  nirvf_mean[y,x]=np.nanmean(nirl)\n"
     ]
    }
   ],
   "source": [
    "#grow season\n",
    "nirvf_mean=np.zeros((66,176))*np.nan\n",
    "for y in range(66):\n",
    "    for x in range(176):\n",
    "        sog_na=imog_nac2[0,y,x]\n",
    "        eog_na=imog_nac2[1,y,x]\n",
    "        if np.isnan(sog_na)==False and np.isnan(eog_na)==False and imai_2degf[y,x]>=2:\n",
    "            sogr_na=int(round(sog_na)/5.)#if %5==0, then need to -1\n",
    "            eogr_na=int(round(eog_na)/5.)\n",
    "            if sogr_na%5==0:\n",
    "                sogr_na=sogr_na-1\n",
    "            if eogr_na%5==0:\n",
    "                eogr_na=eogr_na-1\n",
    "            if sogr_na<eogr_na:\n",
    "                nirl=np.nanmean(nirvf_m5[1:18,sogr_na:eogr_na+1,y,x],axis=0)\n",
    "                nirvf_mean[y,x]=np.nanmean(nirl)\n",
    "            if sogr_na>eogr_na:\n",
    "                nirli=np.append(nirvf_m5[1:18,sogr_na::,y,x],nirvf_m5[2:19,0:eogr_na+1,y,x],axis=1)\n",
    "                nirl=np.nanmean(nirli,axis=0)\n",
    "                nirvf_mean[y,x]=np.nanmean(nirl)"
   ]
  },
  {
   "cell_type": "code",
   "execution_count": 8,
   "id": "62e2b024",
   "metadata": {},
   "outputs": [],
   "source": [
    "#beck model based phenology:\n",
    "#saved phase data\n",
    "glos_rfs2=np.load('/change to your path/glos_rfs5.npy',allow_pickle=True)#greenup\n",
    "glos_veg2=np.load('/change to your path/glos_veg5.npy',allow_pickle=True)#end of vegetative\n",
    "glos_rep2=np.load('/change to your path/glos_rep5.npy',allow_pickle=True)#end of reproductive\n",
    "glos_rfe2=np.load('/change to your path/glos_rfe5.npy',allow_pickle=True)#harves"
   ]
  },
  {
   "cell_type": "code",
   "execution_count": 9,
   "id": "b22d6f2f",
   "metadata": {},
   "outputs": [],
   "source": [
    "#airs f infomation: average during vegetative & reproductive stages\n",
    "fra_ca5m=np.load('/change to your path/gnip_airs_fra65_A1_new.npy',allow_pickle=True)\n",
    "fra_vr=np.zeros((66,176))*np.nan\n",
    "for y in range(66):\n",
    "    for x in range(176):\n",
    "        if np.isnan(glos_rfs2[y,x])==False and np.isnan(glos_rep2[y,x])==False:\n",
    "            d1=int(glos_rfs2[y,x]-1)\n",
    "            d2=int(glos_rep2[y,x]-1)\n",
    "            if d1<d2:\n",
    "                fra_vr[y,x]=np.nanmean(fra_ca5m[d1:d2,y,x])\n",
    "            if d1>d2:\n",
    "                fracom4=np.append(fra_ca5m[d1:73,y,x],fra_ca5m[0:d2,y,x])\n",
    "                fra_vr[y,x]=np.nanmean(fracom4)"
   ]
  },
  {
   "cell_type": "code",
   "execution_count": 10,
   "id": "725dc7a5",
   "metadata": {},
   "outputs": [],
   "source": [
    "fra_vr2=np.zeros((66,176))*np.nan\n",
    "for y in range(66):\n",
    "    for x in range(176):\n",
    "        if np.isnan(fra_vr[y,x])==False:\n",
    "            fra_vr2[y,x]=fra_vr[y,x]"
   ]
  },
  {
   "cell_type": "code",
   "execution_count": 12,
   "id": "f4e79a1c",
   "metadata": {},
   "outputs": [
    {
     "name": "stderr",
     "output_type": "stream",
     "text": [
      "C:\\Users\\jiang\\AppData\\Local\\Temp\\ipykernel_18112\\809522169.py:15: RuntimeWarning: Mean of empty slice\n",
      "  gpcc_it[yr,i,:,:]=np.nanmean(gpcc_or[yr,0+i*5:5+i*5,:,:],axis=0)\n",
      "C:\\Users\\jiang\\AppData\\Local\\Temp\\ipykernel_18112\\809522169.py:18: RuntimeWarning: Mean of empty slice\n",
      "  gpcc_it[yr,i,:,:]=np.nanmean(gpcc_new[0+i*5:5+i*5,:,:],axis=0)\n",
      "C:\\Users\\jiang\\AppData\\Local\\Temp\\ipykernel_18112\\809522169.py:30: RuntimeWarning: Mean of empty slice\n",
      "  p_clim=np.nanmean(gpcc2deg2[2:19,:,::-1,:],axis=0)#2003-2019/-90\n"
     ]
    }
   ],
   "source": [
    "#read in rainfall data\n",
    "#2001-2020: mm/day\n",
    "gpcc_or=np.load('/change to your path/gpcc_full.npy',allow_pickle=True)\n",
    "longc=np.load('/change to your path/lon_full.npy',allow_pickle=True)\n",
    "latgc=np.load('/change to your path/lat_full.npy',allow_pickle=True)\n",
    "lon12g,lat12g=np.meshgrid(longc,latgc)\n",
    "#interpolated on 73 pentad $ 2deg\n",
    "#note lat from -89.5\n",
    "gpcc_it=np.zeros((20,73,180,360))\n",
    "for yr in range(20):\n",
    "    for i in range(73):\n",
    "        if (yr+2001)%4!=0:\n",
    "            gpcc_it[yr,i,:,:]=np.nanmean(gpcc_or[yr,0+i*5:5+i*5,:,:],axis=0)\n",
    "        if (yr+2001)%4==0:\n",
    "            gpcc_new=np.delete(gpcc_or[yr,:,:,:],59,axis=0)\n",
    "            gpcc_it[yr,i,:,:]=np.nanmean(gpcc_new[0+i*5:5+i*5,:,:],axis=0)\n",
    "longc2=np.linspace(longc[0],longc[-1],180)\n",
    "latgc2=np.linspace(latgc[0],latgc[-1],90)\n",
    "lon22g,lat22g=np.meshgrid(longc2,latgc2)\n",
    "#check similar 2 different interpolation method\n",
    "gpcc2deg2=np.zeros((20,73,90,180))*np.nan#2001-2020\n",
    "for yr in range(20):\n",
    "    for i in range(73):\n",
    "        gint=gpcc_it[yr,i,:,:].ravel()\n",
    "        lons=lon12g.ravel()\n",
    "        lats=lat12g.ravel()\n",
    "        gpcc2deg2[yr,i,:,:]=griddata((lons,lats),gint,(lon22g,lat22g),method=\"nearest\")\n",
    "p_clim=np.nanmean(gpcc2deg2[2:19,:,::-1,:],axis=0)#2003-2019/-90"
   ]
  },
  {
   "cell_type": "code",
   "execution_count": 13,
   "id": "17a1e2ea",
   "metadata": {},
   "outputs": [],
   "source": [
    "#2001-2022 GLEAM PET data\n",
    "ep_gleam2=np.load('/change to your path/gleam_Ep_2deg3.npy',allow_pickle=True)"
   ]
  },
  {
   "cell_type": "code",
   "execution_count": 14,
   "id": "1b792495",
   "metadata": {},
   "outputs": [
    {
     "name": "stderr",
     "output_type": "stream",
     "text": [
      "C:\\Users\\jiang\\AppData\\Local\\Temp\\ipykernel_18112\\4283930750.py:2: RuntimeWarning: Mean of empty slice\n",
      "  n_clim=np.nanmean(nirvf_m5[1:18,:,:,:],axis=0)\n",
      "C:\\Users\\jiang\\AppData\\Local\\Temp\\ipykernel_18112\\4283930750.py:3: RuntimeWarning: Mean of empty slice\n",
      "  p_clim=np.nanmean(gpcc2deg2[2:19,:,::-1,:],axis=0)#2005-2011/-90\n",
      "C:\\Users\\jiang\\AppData\\Local\\Temp\\ipykernel_18112\\4283930750.py:5: RuntimeWarning: Mean of empty slice\n",
      "  ep_clim=np.nanmean(ep_gleam2[2:19,:,:,:],axis=0)#90\n"
     ]
    }
   ],
   "source": [
    "#2003-2019\n",
    "n_clim=np.nanmean(nirvf_m5[1:18,:,:,:],axis=0)\n",
    "p_clim=np.nanmean(gpcc2deg2[2:19,:,::-1,:],axis=0)#2005-2011/-90\n",
    "pr_clim=p_clim[:,10:75,5::]\n",
    "ep_clim=np.nanmean(ep_gleam2[2:19,:,:,:],axis=0)#90"
   ]
  },
  {
   "cell_type": "code",
   "execution_count": 15,
   "id": "f89afb59",
   "metadata": {},
   "outputs": [
    {
     "name": "stderr",
     "output_type": "stream",
     "text": [
      "C:\\Users\\jiang\\AppData\\Local\\Temp\\ipykernel_18112\\2953417277.py:11: RuntimeWarning: Mean of empty slice\n",
      "  ep_vr[y,x]=np.nanmean(ep_clim[d1:d2,y,x])\n",
      "C:\\Users\\jiang\\AppData\\Local\\Temp\\ipykernel_18112\\2953417277.py:10: RuntimeWarning: Mean of empty slice\n",
      "  p_vr[y,x]=np.nanmean(pr_clim[d1:d2,y,x])\n",
      "C:\\Users\\jiang\\AppData\\Local\\Temp\\ipykernel_18112\\2953417277.py:14: RuntimeWarning: Mean of empty slice\n",
      "  p_vr[y,x]=np.nanmean(pcom2)\n",
      "C:\\Users\\jiang\\AppData\\Local\\Temp\\ipykernel_18112\\2953417277.py:16: RuntimeWarning: Mean of empty slice\n",
      "  ep_vr[y,x]=np.nanmean(epcom2)\n"
     ]
    }
   ],
   "source": [
    "#P & PET during vegetative & reproductive stages\n",
    "p_vr=np.zeros((65,175))*np.nan\n",
    "ep_vr=np.zeros((65,175))*np.nan\n",
    "for y in range(65):\n",
    "    for x in range(175):\n",
    "        if np.isnan(glos_rfs2[y,x])==False and np.isnan(glos_veg2[y,x])==False and np.isnan(nirvf_mean[y,x])==False and np.isnan(fra_vr2[y,x])==False:\n",
    "            d1=int(glos_rfs2[y,x]-1)\n",
    "            d2=int(glos_rep2[y,x]-1)\n",
    "            if d1<d2:\n",
    "                p_vr[y,x]=np.nanmean(pr_clim[d1:d2,y,x])\n",
    "                ep_vr[y,x]=np.nanmean(ep_clim[d1:d2,y,x])\n",
    "            if d1>d2:\n",
    "                pcom2=np.append(pr_clim[d1:73,y,x],pr_clim[0:d2,y,x])\n",
    "                p_vr[y,x]=np.nanmean(pcom2)\n",
    "                epcom2=np.append(ep_clim[d1:73,y,x],ep_clim[0:d2,y,x])\n",
    "                ep_vr[y,x]=np.nanmean(epcom2)"
   ]
  },
  {
   "cell_type": "code",
   "execution_count": 16,
   "id": "b05fcc8b",
   "metadata": {},
   "outputs": [],
   "source": [
    "#cumulative P-PET\n",
    "pec_vr=np.zeros((65,175))*np.nan \n",
    "for y in range(65):\n",
    "    for x in range(175):\n",
    "        if np.isnan(glos_rfs2[y,x])==False and np.isnan(glos_rep2[y,x])==False and np.isnan(nirvf_mean[y,x])==False and np.isnan(fra_vr2[y,x])==False:\n",
    "            d1=int(glos_rfs2[y,x]-1)\n",
    "            d2=int(glos_rep2[y,x]-1)\n",
    "            if d1<d2:\n",
    "                pec_vr[y,x]=np.nansum(pr_clim[d1:d2,y,x]-ep_clim[d1:d2,y,x])\n",
    "            if d1>d2:\n",
    "                pcom4=np.append(pr_clim[d1:73,y,x],pr_clim[0:d2,y,x])\n",
    "                epcom4=np.append(ep_clim[d1:73,y,x],ep_clim[0:d2,y,x])\n",
    "                pec_vr[y,x]=np.nansum(pcom4-epcom4)"
   ]
  },
  {
   "cell_type": "code",
   "execution_count": 17,
   "id": "7e004862",
   "metadata": {},
   "outputs": [],
   "source": [
    "pec_vrc=np.zeros((65,175))*np.nan\n",
    "fra_vrc=np.zeros((65,175))*np.nan\n",
    "for y in range(65):\n",
    "    for x in range(175):\n",
    "        a=[p_vr[y,x],ep_vr[y,x],fra_vr2[y,x]]\n",
    "        if np.count_nonzero(np.isnan(a))==0:\n",
    "            pec_vrc[y,x]=pec_vr[y,x]\n",
    "            fra_vrc[y,x]=fra_vr2[y,x]"
   ]
  },
  {
   "cell_type": "code",
   "execution_count": 18,
   "id": "3e71b719",
   "metadata": {},
   "outputs": [],
   "source": [
    "#delete NAN values\n",
    "pec_vric=np.reshape(pec_vrc,65*175)\n",
    "pec_vric=pec_vric[~np.isnan(pec_vric)]\n",
    "\n",
    "f_vric=np.reshape(fra_vrc,65*175)\n",
    "f_vric=f_vric[~np.isnan(f_vric)]"
   ]
  },
  {
   "cell_type": "code",
   "execution_count": 20,
   "id": "7d79d4b2",
   "metadata": {},
   "outputs": [
    {
     "data": {
      "text/plain": [
       "(array([10], dtype=int64),)"
      ]
     },
     "execution_count": 20,
     "metadata": {},
     "output_type": "execute_result"
    }
   ],
   "source": [
    "#consider the separation of positive and negative as well\n",
    "#this aims to find the integer number to optimizely seperate croplands in 2 groups\n",
    "opa3=np.ones((3,25))*np.nan\n",
    "gm2=np.ones((2,25))*np.nan\n",
    "nm2=np.ones((2,25))*np.nan\n",
    "for k in range(25,50):#find the threshold between 25% - 50%\n",
    "    pec_rppi=[]\n",
    "    pec_rpni=[]\n",
    "    for i in range(int(len(f_vric))):\n",
    "        if f_vric[i]*100>=k:\n",
    "            pec_rppi=np.append(pec_rppi,pec_vric[i])#e_rpic = p-pet\n",
    "        if f_vric[i]*100<k:\n",
    "            pec_rpni=np.append(pec_rpni,pec_vric[i])\n",
    "    gm2[0,k-25]=np.nanmean(pec_rpni)\n",
    "    gm2[1,k-25]=np.nanmean(pec_rppi)\n",
    "    nm2[0,k-25]=len(pec_rpni)\n",
    "    nm2[1,k-25]=len(pec_rppi)\n",
    "    a=ttest_ind(pec_rppi,pec_rpni)\n",
    "    opa3[0,k-25]=a[0]#difference\n",
    "    opa3[1,k-25]=a[1]\n",
    "    opa3[2,k-25]=(np.count_nonzero(pec_rppi<0))*(np.count_nonzero(pec_rpni>0))\n",
    "    \n",
    "np.where(opa3[2,:]==np.max(opa3[2,:]))#index of the threshold of f "
   ]
  },
  {
   "cell_type": "code",
   "execution_count": 21,
   "id": "a91ba1c9",
   "metadata": {},
   "outputs": [],
   "source": [
    "#find the f threshold using a continuous method (do not constrained to find an integer number)\n",
    "#prepare for the following bootstrap test method\n",
    "from scipy.optimize import minimize_scalar \n",
    "from scipy.stats import ttest_ind\n",
    "def optimal_threshold_arrays(f_arr, ppp_arr):\n",
    "    \"\"\"\n",
    "    Determine the optimal f threshold that maximizes the product of:\n",
    "      - The number of grid cells with positive ∑(P-PET) below the threshold, and\n",
    "      - The number of grid cells with negative ∑(P-PET) above the threshold.\n",
    "    \n",
    "    Additionally, the threshold is only accepted if the two groups (f < threshold and f >= threshold)\n",
    "    show a statistically significant difference in their cumulative (P-PET) values (p < 0.05, via t-test).\n",
    "    \n",
    "    f_arr and ppp_arr are 2D arrays; they are flattened to 1D for the calculation.\n",
    "    \"\"\"\n",
    "    # Flatten the arrays to 1D\n",
    "    f_flat = f_arr.ravel()\n",
    "    ppp_flat = ppp_arr.ravel()\n",
    "    \n",
    "    def neg_product(thr):\n",
    "        # Split data into two groups based on the threshold\n",
    "        group1 = ppp_flat[f_flat < thr]\n",
    "        group2 = ppp_flat[f_flat >= thr]\n",
    "        \n",
    "        # Ensure each group has at least two samples\n",
    "        if len(group1) < 2 or len(group2) < 2:\n",
    "            return np.inf\n",
    "        \n",
    "        # Perform a two-sample t-test (assuming unequal variances by default)\n",
    "        t_stat, p_val = ttest_ind(group1, group2, equal_var=False)\n",
    "        \n",
    "        # If the two groups are not significantly different, penalize this threshold.\n",
    "        if p_val > 0.01:\n",
    "            return np.inf\n",
    "        \n",
    "        # Calculate the product of the counts:\n",
    "        # count of grid cells with positive (P-PET) in group1 and negative (P-PET) in group2.\n",
    "        count1 = np.sum(group1 > 0)\n",
    "        count2 = np.sum(group2 < 0)\n",
    "        product = count1 * count2\n",
    "        \n",
    "        # We minimize the negative of the product to maximize the original product.\n",
    "        return -product\n",
    "    \n",
    "    res = minimize_scalar(neg_product, bounds=(f_flat.min(), f_flat.max()), method='bounded')\n",
    "    return res.x"
   ]
  },
  {
   "cell_type": "code",
   "execution_count": 22,
   "id": "4a9d9be8",
   "metadata": {},
   "outputs": [],
   "source": [
    "#bootstrap with random replacemenet to find the 95 percentile window for f threshold\n",
    "def bootstrap_thresholds_arrays(f_arr, ppp_arr, n_iter=1000):\n",
    "    \"\"\"\n",
    "    Perform bootstrap resampling on the 2D arrays f_arr and ppp_arr to obtain\n",
    "    a distribution of the optimal f thresholds, then compute the 95% confidence interval.\n",
    "    \n",
    "    Parameters:\n",
    "        f_arr (np.array): 2D array of f values.\n",
    "        ppp_arr (np.array): 2D array of cumulative (P-PET) values.\n",
    "        n_iter (int): Number of bootstrap iterations.\n",
    "    \n",
    "    Returns:\n",
    "        boot_thresholds (np.array): Array of optimal thresholds from each bootstrap sample.\n",
    "        ci (tuple): (ci_lower, ci_upper) representing the 95% confidence interval.\n",
    "    \"\"\"\n",
    "    # Flatten the arrays once for bootstrapping\n",
    "    f_flat = f_arr.ravel()\n",
    "    ppp_flat = ppp_arr.ravel()\n",
    "    N = len(f_flat)\n",
    "    boot_thresholds = []\n",
    "    \n",
    "    for _ in range(n_iter):\n",
    "        # Resample indices with replacement from the full dataset\n",
    "        indices = np.random.randint(0, N, size=N)\n",
    "        f_sample = f_flat[indices]\n",
    "        ppp_sample = ppp_flat[indices]\n",
    "        # Calculate the optimal threshold for the bootstrap sample\n",
    "        thr = optimal_threshold_arrays(f_sample.reshape(-1, 1), ppp_sample.reshape(-1, 1))\n",
    "        boot_thresholds.append(thr)\n",
    "    \n",
    "    boot_thresholds = np.array(boot_thresholds)\n",
    "    ci_lower = np.percentile(boot_thresholds, 2.5)\n",
    "    ci_upper = np.percentile(boot_thresholds, 97.5)\n",
    "    \n",
    "    return boot_thresholds, (ci_lower, ci_upper)"
   ]
  },
  {
   "cell_type": "code",
   "execution_count": 23,
   "id": "cea1065d",
   "metadata": {},
   "outputs": [
    {
     "name": "stdout",
     "output_type": "stream",
     "text": [
      "95% confidence interval for f: (0.318, 0.372)\n"
     ]
    }
   ],
   "source": [
    "boot_results, ci = bootstrap_thresholds_arrays(f_vric, pec_vric, n_iter=1000)\n",
    "print(f\"95% confidence interval for f: ({ci[0]:.3f}, {ci[1]:.3f})\")"
   ]
  },
  {
   "cell_type": "code",
   "execution_count": 24,
   "id": "c8458048",
   "metadata": {},
   "outputs": [],
   "source": [
    "#note: here is the calculation combining AIRS & NIRv, slightly different numbers combining AIRS, TES, NIRv, SIF.\n",
    "#The 36% f threshold is the average considering different combination "
   ]
  },
  {
   "cell_type": "code",
   "execution_count": null,
   "id": "842b25c2",
   "metadata": {},
   "outputs": [],
   "source": []
  }
 ],
 "metadata": {
  "kernelspec": {
   "display_name": "Python 3 (ipykernel)",
   "language": "python",
   "name": "python3"
  },
  "language_info": {
   "codemirror_mode": {
    "name": "ipython",
    "version": 3
   },
   "file_extension": ".py",
   "mimetype": "text/x-python",
   "name": "python",
   "nbconvert_exporter": "python",
   "pygments_lexer": "ipython3",
   "version": "3.9.12"
  }
 },
 "nbformat": 4,
 "nbformat_minor": 5
}
